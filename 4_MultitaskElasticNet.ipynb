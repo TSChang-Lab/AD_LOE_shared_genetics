{
 "cells": [
  {
   "cell_type": "code",
   "execution_count": 1,
   "metadata": {},
   "outputs": [],
   "source": [
    "import numpy as np\n",
    "import pandas as pd\n",
    "from sklearn.model_selection import train_test_split, GridSearchCV\n",
    "from sklearn.linear_model import LinearRegression, LogisticRegression, Lasso, ElasticNet, MultiTaskElasticNet\n",
    "from sklearn.metrics import roc_auc_score, average_precision_score, mean_squared_error\n",
    "from sklearn.preprocessing import StandardScaler\n",
    "import warnings\n",
    "# Silence the SettingWithCopyWarning\n",
    "warnings.filterwarnings(\"ignore\", category = pd.core.common.SettingWithCopyWarning)"
   ]
  },
  {
   "cell_type": "code",
   "execution_count": 2,
   "metadata": {},
   "outputs": [],
   "source": [
    "# Load in cleaned data\n",
    "df = pd.read_csv('/opt/genomics/IPHinvestigators/joyfu/dementia-epilepsy/data/modeling/sample_data_full.csv')\n",
    "\n",
    "# Separate features (SNPs) and target outcomes\n",
    "X = df.drop(columns = ['AD', 'LOE'])\n",
    "y = df[['AD', 'LOE']]"
   ]
  },
  {
   "cell_type": "code",
   "execution_count": 3,
   "metadata": {},
   "outputs": [],
   "source": [
    "# Placeholder for demographics and SNP columns\n",
    "demographics = ['age_last_visit', 'female', 'PC1', 'PC2', 'PC3', 'PC4', 'PC5', 'PC6', 'PC7', 'PC8', 'PC9', 'PC10']\n",
    "SNP_columns = [col for col in df.columns if col.startswith('chr')]"
   ]
  },
  {
   "cell_type": "code",
   "execution_count": 4,
   "metadata": {},
   "outputs": [
    {
     "data": {
      "text/plain": [
       "4454"
      ]
     },
     "execution_count": 4,
     "metadata": {},
     "output_type": "execute_result"
    }
   ],
   "source": [
    "len(SNP_columns)"
   ]
  },
  {
   "cell_type": "markdown",
   "metadata": {},
   "source": [
    "# Sample analysis"
   ]
  },
  {
   "cell_type": "code",
   "execution_count": 5,
   "metadata": {},
   "outputs": [],
   "source": [
    "seed = 701\n",
    "# Create a composite stratification key\n",
    "y_stratify = y.apply(lambda row: '_'.join(row.values.astype(str)), axis = 1)\n",
    "X_train, X_test, y_train, y_test = train_test_split(X, y, test_size = 0.2, stratify = y_stratify, random_state = seed)"
   ]
  },
  {
   "cell_type": "markdown",
   "metadata": {},
   "source": [
    "## Regress out demographics"
   ]
  },
  {
   "cell_type": "code",
   "execution_count": 6,
   "metadata": {},
   "outputs": [],
   "source": [
    "# Standardize demographic features\n",
    "scaler = StandardScaler()\n",
    "X_train_scaled = scaler.fit_transform(X_train[demographics])\n",
    "X_test_scaled = scaler.transform(X_test[demographics])"
   ]
  },
  {
   "cell_type": "code",
   "execution_count": 7,
   "metadata": {},
   "outputs": [],
   "source": [
    "# Regress out demographics from AD and LOE using logistic regression\n",
    "log_reg_ad = LogisticRegression()\n",
    "log_reg_ad.fit(X_train_scaled, y_train['AD'])\n",
    "y_train_pred_ad = log_reg_ad.predict_proba(X_train_scaled)[:, 1]\n",
    "y_train_resid_ad = y_train['AD'] - y_train_pred_ad\n",
    "\n",
    "log_reg_loe = LogisticRegression()\n",
    "log_reg_loe.fit(X_train_scaled, y_train['LOE'])\n",
    "y_train_pred_loe = log_reg_loe.predict_proba(X_train_scaled)[:, 1]\n",
    "y_train_resid_loe = y_train['LOE'] - y_train_pred_loe\n",
    "\n",
    "# Store residuals\n",
    "y_train_resid = pd.DataFrame({\n",
    "    'AD_residual': y_train_resid_ad,\n",
    "    'LOE_residual': y_train_resid_loe\n",
    "})"
   ]
  },
  {
   "cell_type": "code",
   "execution_count": 8,
   "metadata": {},
   "outputs": [],
   "source": [
    "# Apply the same transformation to the test set\n",
    "y_test_pred_ad = log_reg_ad.predict_proba(X_test_scaled)[:, 1]\n",
    "y_test_resid_ad = y_test['AD'] - y_test_pred_ad\n",
    "\n",
    "y_test_pred_loe = log_reg_loe.predict_proba(X_test_scaled)[:, 1]\n",
    "y_test_resid_loe = y_test['LOE'] - y_test_pred_loe\n",
    "\n",
    "y_test_resid = pd.DataFrame({\n",
    "    'AD_residual': y_test_resid_ad,\n",
    "    'LOE_residual': y_test_resid_loe\n",
    "})"
   ]
  },
  {
   "cell_type": "markdown",
   "metadata": {},
   "source": [
    "## Modeling"
   ]
  },
  {
   "cell_type": "markdown",
   "metadata": {},
   "source": [
    "### Single-task Elastic Net"
   ]
  },
  {
   "cell_type": "code",
   "execution_count": 9,
   "metadata": {},
   "outputs": [],
   "source": [
    "# Isolate SNP data\n",
    "X_train_SNPs = X_train[SNP_columns]\n",
    "X_test_SNPs = X_test[SNP_columns]"
   ]
  },
  {
   "cell_type": "code",
   "execution_count": null,
   "metadata": {},
   "outputs": [],
   "source": [
    "# Define the Elastic Net model\n",
    "elastic_net = ElasticNet()\n",
    "\n",
    "# Define the grid of hyperparameters to search\n",
    "param_grid = {\n",
    "    'alpha': np.logspace(-4, 4, 50),  # Search over a wide range of alpha values\n",
    "    'l1_ratio': np.linspace(0, 1, 10)  # l1_ratio varies from 0 (Ridge) to 1 (Lasso)\n",
    "}\n",
    "\n",
    "# Define the grid search\n",
    "grid_search = GridSearchCV(estimator = elastic_net, param_grid = param_grid, \n",
    "                           cv = 5, scoring = 'neg_mean_squared_error', n_jobs = -1)"
   ]
  },
  {
   "cell_type": "code",
   "execution_count": null,
   "metadata": {},
   "outputs": [],
   "source": [
    "# Fit the grid search to the training data\n",
    "# == AD prediciton ==\n",
    "grid_search.fit(X_train_SNPs, y_train_resid['AD_residual'])\n",
    "# Get the best parameters and the best model\n",
    "best_params = grid_search.best_params_\n",
    "best_model = grid_search.best_estimator_\n",
    "\n",
    "# Print the best parameters\n",
    "print(f\"Best parameters for AD: {best_params}\")"
   ]
  },
  {
   "cell_type": "code",
   "execution_count": 10,
   "metadata": {},
   "outputs": [],
   "source": [
    "elnet_ad = ElasticNet(alpha = 0.019, l1_ratio = 0.778) # 0.019, 0.778\n",
    "elnet_ad.fit(X_train_SNPs, y_train_resid['AD_residual'])\n",
    "y_pred_ad_resid = elnet_ad.predict(X_test_SNPs)"
   ]
  },
  {
   "cell_type": "code",
   "execution_count": null,
   "metadata": {},
   "outputs": [],
   "source": [
    "# == LOE prediciton ==\n",
    "grid_search.fit(X_train_SNPs, y_train_resid['LOE_residual'])\n",
    "# Get the best parameters and the best model\n",
    "best_params = grid_search.best_params_\n",
    "best_model = grid_search.best_estimator_\n",
    "\n",
    "# Print the best parameters\n",
    "print(f\"Best parameters for LOE: {best_params}\")"
   ]
  },
  {
   "cell_type": "code",
   "execution_count": 11,
   "metadata": {},
   "outputs": [],
   "source": [
    "elnet_loe = ElasticNet(alpha = 0.019, l1_ratio = 0.778) # 0.019, 0.778\n",
    "elnet_loe.fit(X_train_SNPs, y_train_resid['LOE_residual'])\n",
    "y_pred_loe_resid = elnet_loe.predict(X_test_SNPs)"
   ]
  },
  {
   "cell_type": "code",
   "execution_count": 12,
   "metadata": {},
   "outputs": [
    {
     "name": "stdout",
     "output_type": "stream",
     "text": [
      "Elastic net AUC for AD: 0.6610615799295045, AUPRC for AD: 0.30568553861680764, MSE for AD: 0.14395508220492736\n",
      "Elastic net AUC for LOE: 0.5424679487179487, AUPRC for LOE: 0.13929379322387808, MSE for LOE: 0.1197040841532493\n"
     ]
    }
   ],
   "source": [
    "auc_ad_elnet = roc_auc_score(y_test['AD'], y_pred_ad_resid)\n",
    "auc_loe_elnet = roc_auc_score(y_test['LOE'], y_pred_loe_resid)\n",
    "\n",
    "auprc_ad_elnet = average_precision_score(y_test['AD'], y_pred_ad_resid)\n",
    "auprc_loe_elnet = average_precision_score(y_test['LOE'], y_pred_loe_resid)\n",
    "\n",
    "mse_ad_elnet = mean_squared_error(y_test['AD'], y_pred_ad_resid)\n",
    "mse_loe_elnet = mean_squared_error(y_test['LOE'], y_pred_loe_resid)\n",
    "\n",
    "print(f\"Elastic net AUC for AD: {auc_ad_elnet}, AUPRC for AD: {auprc_ad_elnet}, MSE for AD: {mse_ad_elnet}\")\n",
    "print(f\"Elastic net AUC for LOE: {auc_loe_elnet}, AUPRC for LOE: {auprc_loe_elnet}, MSE for LOE: {mse_loe_elnet}\")"
   ]
  },
  {
   "cell_type": "markdown",
   "metadata": {},
   "source": [
    "###  Multi-task Elastic Net"
   ]
  },
  {
   "cell_type": "code",
   "execution_count": null,
   "metadata": {},
   "outputs": [],
   "source": [
    "# Define the Multitask Elastic Net model\n",
    "multi_task_elastic_net = MultiTaskElasticNet()\n",
    "\n",
    "# Define the grid of hyperparameters to search\n",
    "param_grid = {\n",
    "    'alpha': np.logspace(-4, 4, 50),  # Search over a wide range of alpha values\n",
    "    'l1_ratio': np.linspace(0, 1, 10)  # l1_ratio varies from 0 (Ridge) to 1 (Lasso)\n",
    "}\n",
    "\n",
    "# Define the grid search\n",
    "grid_search = GridSearchCV(estimator = multi_task_elastic_net, param_grid = param_grid, \n",
    "                           cv = 5, scoring = 'neg_mean_squared_error', n_jobs = -1)"
   ]
  },
  {
   "cell_type": "code",
   "execution_count": null,
   "metadata": {},
   "outputs": [],
   "source": [
    "# Fit the grid search to the training data\n",
    "grid_search.fit(X_train_SNPs, y_train_resid)\n",
    "# Get the best parameters and the best model\n",
    "best_params = grid_search.best_params_\n",
    "best_model = grid_search.best_estimator_\n",
    "\n",
    "# Print the best parameters\n",
    "print(f\"Best parameters (multi-task Elastic Net): {best_params}\")"
   ]
  },
  {
   "cell_type": "code",
   "execution_count": 13,
   "metadata": {},
   "outputs": [],
   "source": [
    "# Train Multi-Task Lasso model with the best alpha\n",
    "multi_task_elnet = MultiTaskElasticNet(alpha = 0.019, l1_ratio = 0.667) # 0.019, 0.667\n",
    "multi_task_elnet.fit(X_train_SNPs, y_train_resid)\n",
    "y_pred_resid_multi_task = multi_task_elnet.predict(X_test_SNPs)"
   ]
  },
  {
   "cell_type": "code",
   "execution_count": 14,
   "metadata": {},
   "outputs": [
    {
     "name": "stdout",
     "output_type": "stream",
     "text": [
      "Multi-Task Elnet AUC for AD: 0.6581380883267676, AUPRC for AD: 0.3206370145788535, MSE for AD: 0.1433962673567193\n",
      "Multi-Task Elnet AUC for LOE: 0.6368689903846154, AUPRC for LOE: 0.2082893434412605, MSE for LOE: 0.11874117425486665\n"
     ]
    }
   ],
   "source": [
    "auc_ad_multi_task = roc_auc_score(y_test['AD'], y_pred_resid_multi_task[:, 0])\n",
    "auc_loe_multi_task = roc_auc_score(y_test['LOE'], y_pred_resid_multi_task[:, 1])\n",
    "\n",
    "auprc_ad_multi_task = average_precision_score(y_test['AD'], y_pred_resid_multi_task[:, 0])\n",
    "auprc_loe_multi_task = average_precision_score(y_test['LOE'], y_pred_resid_multi_task[:, 1])\n",
    "\n",
    "mse_ad_multi_task = mean_squared_error(y_test['AD'], y_pred_resid_multi_task[:, 0])\n",
    "mse_loe_multi_task = mean_squared_error(y_test['LOE'], y_pred_resid_multi_task[:, 1])\n",
    "\n",
    "print(f\"Multi-Task Elnet AUC for AD: {auc_ad_multi_task}, AUPRC for AD: {auprc_ad_multi_task}, MSE for AD: {mse_ad_multi_task}\")\n",
    "print(f\"Multi-Task Elnet AUC for LOE: {auc_loe_multi_task}, AUPRC for LOE: {auprc_loe_multi_task}, MSE for LOE: {mse_loe_multi_task}\")"
   ]
  },
  {
   "cell_type": "markdown",
   "metadata": {},
   "source": [
    "### Plot"
   ]
  },
  {
   "cell_type": "code",
   "execution_count": 15,
   "metadata": {},
   "outputs": [],
   "source": [
    "import matplotlib.pyplot as plt\n",
    "from sklearn.metrics import roc_curve, auc, precision_recall_curve"
   ]
  },
  {
   "cell_type": "code",
   "execution_count": 16,
   "metadata": {},
   "outputs": [],
   "source": [
    "# Calculate Precision-Recall curves and AUPRCs\n",
    "precision1, recall1, _ = precision_recall_curve(y_test['AD'], y_pred_ad_resid)\n",
    "auprc1 = auc(recall1, precision1)\n",
    "\n",
    "precision2, recall2, _ = precision_recall_curve(y_test['AD'], y_pred_resid_multi_task[:, 0])\n",
    "auprc2 = auc(recall2, precision2)\n",
    "\n",
    "precision3, recall3, _ = precision_recall_curve(y_test['LOE'], y_pred_loe_resid)\n",
    "auprc3 = auc(recall3, precision3)\n",
    "\n",
    "precision4, recall4, _ = precision_recall_curve(y_test['LOE'], y_pred_resid_multi_task[:, 1])\n",
    "auprc4 = auc(recall4, precision4)"
   ]
  },
  {
   "cell_type": "code",
   "execution_count": 37,
   "metadata": {},
   "outputs": [
    {
     "data": {
      "text/plain": [
       "<Figure size 640x480 with 0 Axes>"
      ]
     },
     "metadata": {},
     "output_type": "display_data"
    },
    {
     "data": {
      "image/png": "[encoded data removed]",
      "text/plain": [
       "<Figure size 1200x500 with 2 Axes>"
      ]
     },
     "metadata": {},
     "output_type": "display_data"
    }
   ],
   "source": [
    "# Plot Precision-Recall curves\n",
    "plt.figure(figsize = (12, 5))\n",
    "plt.subplot(1, 2, 1)\n",
    "plt.plot(recall1, precision1, color = 'blue', lw = 2, label = f'Separate Elastic Net (AUPRC = {auprc1:.2f})')\n",
    "plt.plot(recall2, precision2, color = 'green', lw = 2, label = f'Multi-task Elastic Net (AUPRC = {auprc2:.2f})')\n",
    "plt.xlim([0.0, 1.0])\n",
    "plt.ylim([0.0, 1.05])\n",
    "plt.xlabel('Recall')\n",
    "plt.ylabel('Precision')\n",
    "plt.title('Precision-Recall Curve Comparison: AD')\n",
    "plt.legend(loc = \"upper right\")\n",
    "\n",
    "plt.subplot(1, 2, 2)\n",
    "plt.plot(recall3, precision3, color = 'blue', lw = 2, label = f'Separate Elastic Net (AUPRC = {auprc3:.2f})')\n",
    "plt.plot(recall4, precision4, color = 'green', lw = 2, label = f'Multi-task Elastic Net (AUPRC = {auprc4:.2f})')\n",
    "plt.xlim([0.0, 1.0])\n",
    "plt.ylim([0.0, 1.05])\n",
    "plt.xlabel('Recall')\n",
    "plt.ylabel('Precision')\n",
    "plt.title('Precision-Recall Curve Comparison: LOE')\n",
    "plt.legend(loc = \"upper right\")\n",
    "\n",
    "plt.tight_layout()\n",
    "\n",
    "# Save the plot as a PNG file\n",
    "plt.savefig(\"model_comparison_plot.png\", dpi = 300)\n",
    "\n",
    "# Optionally, display the plot\n",
    "plt.show()"
   ]
  },
  {
   "cell_type": "markdown",
   "metadata": {},
   "source": [
    "# Shared risk score"
   ]
  },
  {
   "cell_type": "code",
   "execution_count": 19,
   "metadata": {},
   "outputs": [
    {
     "name": "stdout",
     "output_type": "stream",
     "text": [
      "(83, 15)\n"
     ]
    },
    {
     "data": {
      "text/html": [
       "<div>\n",
       "<style scoped>\n",
       "    .dataframe tbody tr th:only-of-type {\n",
       "        vertical-align: middle;\n",
       "    }\n",
       "\n",
       "    .dataframe tbody tr th {\n",
       "        vertical-align: top;\n",
       "    }\n",
       "\n",
       "    .dataframe thead th {\n",
       "        text-align: right;\n",
       "    }\n",
       "</style>\n",
       "<table border=\"1\" class=\"dataframe\">\n",
       "  <thead>\n",
       "    <tr style=\"text-align: right;\">\n",
       "      <th></th>\n",
       "      <th>SNP</th>\n",
       "      <th>n</th>\n",
       "      <th>rsID</th>\n",
       "      <th>phenotype</th>\n",
       "      <th>chr_num</th>\n",
       "      <th>pos</th>\n",
       "      <th>CADD</th>\n",
       "      <th>nearestGene</th>\n",
       "      <th>func</th>\n",
       "      <th>posMapFilt</th>\n",
       "      <th>eqtlMapFilt</th>\n",
       "      <th>ciMapFilt</th>\n",
       "      <th>mean_AD_coef</th>\n",
       "      <th>mean_LOE_coef</th>\n",
       "      <th>signs</th>\n",
       "    </tr>\n",
       "  </thead>\n",
       "  <tbody>\n",
       "    <tr>\n",
       "      <th>0</th>\n",
       "      <td>chr19:44885243:A:G</td>\n",
       "      <td>999</td>\n",
       "      <td>rs283811</td>\n",
       "      <td>AD_EUR</td>\n",
       "      <td>19</td>\n",
       "      <td>44885243</td>\n",
       "      <td>0.900</td>\n",
       "      <td>PVRL2:CTB-129P6.4</td>\n",
       "      <td>ncRNA_intronic</td>\n",
       "      <td>1</td>\n",
       "      <td>0</td>\n",
       "      <td>0</td>\n",
       "      <td>0.061982</td>\n",
       "      <td>-0.000172</td>\n",
       "      <td>Different</td>\n",
       "    </tr>\n",
       "    <tr>\n",
       "      <th>1</th>\n",
       "      <td>chr19:44820881:G:A</td>\n",
       "      <td>998</td>\n",
       "      <td>rs28399637</td>\n",
       "      <td>AD_EUR</td>\n",
       "      <td>19</td>\n",
       "      <td>44820881</td>\n",
       "      <td>0.114</td>\n",
       "      <td>BCAM</td>\n",
       "      <td>intronic</td>\n",
       "      <td>1</td>\n",
       "      <td>0</td>\n",
       "      <td>0</td>\n",
       "      <td>0.015581</td>\n",
       "      <td>0.003028</td>\n",
       "      <td>Same</td>\n",
       "    </tr>\n",
       "    <tr>\n",
       "      <th>2</th>\n",
       "      <td>chr19:44901715:T:C</td>\n",
       "      <td>994</td>\n",
       "      <td>rs1038025</td>\n",
       "      <td>AD_EUR</td>\n",
       "      <td>19</td>\n",
       "      <td>44901715</td>\n",
       "      <td>2.561</td>\n",
       "      <td>TOMM40</td>\n",
       "      <td>UTR3</td>\n",
       "      <td>1</td>\n",
       "      <td>0</td>\n",
       "      <td>0</td>\n",
       "      <td>-0.014890</td>\n",
       "      <td>-0.002215</td>\n",
       "      <td>Same</td>\n",
       "    </tr>\n",
       "    <tr>\n",
       "      <th>3</th>\n",
       "      <td>chr11:86103444:G:T</td>\n",
       "      <td>881</td>\n",
       "      <td>rs586274</td>\n",
       "      <td>AD_EUR</td>\n",
       "      <td>11</td>\n",
       "      <td>86103444</td>\n",
       "      <td>1.993</td>\n",
       "      <td>snoU13</td>\n",
       "      <td>intergenic</td>\n",
       "      <td>1</td>\n",
       "      <td>0</td>\n",
       "      <td>1</td>\n",
       "      <td>-0.009505</td>\n",
       "      <td>0.004077</td>\n",
       "      <td>Different</td>\n",
       "    </tr>\n",
       "    <tr>\n",
       "      <th>4</th>\n",
       "      <td>chr1:207627064:T:A</td>\n",
       "      <td>807</td>\n",
       "      <td>rs12028134</td>\n",
       "      <td>AD_EUR</td>\n",
       "      <td>1</td>\n",
       "      <td>207627064</td>\n",
       "      <td>1.972</td>\n",
       "      <td>CR1</td>\n",
       "      <td>intronic</td>\n",
       "      <td>1</td>\n",
       "      <td>0</td>\n",
       "      <td>0</td>\n",
       "      <td>0.006167</td>\n",
       "      <td>-0.002626</td>\n",
       "      <td>Different</td>\n",
       "    </tr>\n",
       "  </tbody>\n",
       "</table>\n",
       "</div>"
      ],
      "text/plain": [
       "                  SNP    n        rsID phenotype  chr_num        pos   CADD  \\\n",
       "0  chr19:44885243:A:G  999    rs283811    AD_EUR       19   44885243  0.900   \n",
       "1  chr19:44820881:G:A  998  rs28399637    AD_EUR       19   44820881  0.114   \n",
       "2  chr19:44901715:T:C  994   rs1038025    AD_EUR       19   44901715  2.561   \n",
       "3  chr11:86103444:G:T  881    rs586274    AD_EUR       11   86103444  1.993   \n",
       "4  chr1:207627064:T:A  807  rs12028134    AD_EUR        1  207627064  1.972   \n",
       "\n",
       "         nearestGene            func  posMapFilt  eqtlMapFilt  ciMapFilt  \\\n",
       "0  PVRL2:CTB-129P6.4  ncRNA_intronic           1            0          0   \n",
       "1               BCAM        intronic           1            0          0   \n",
       "2             TOMM40            UTR3           1            0          0   \n",
       "3             snoU13      intergenic           1            0          1   \n",
       "4                CR1        intronic           1            0          0   \n",
       "\n",
       "   mean_AD_coef  mean_LOE_coef      signs  \n",
       "0      0.061982      -0.000172  Different  \n",
       "1      0.015581       0.003028       Same  \n",
       "2     -0.014890      -0.002215       Same  \n",
       "3     -0.009505       0.004077  Different  \n",
       "4      0.006167      -0.002626  Different  "
      ]
     },
     "execution_count": 19,
     "metadata": {},
     "output_type": "execute_result"
    }
   ],
   "source": [
    "# Load in shared SNPs data\n",
    "shared_feature = pd.read_csv('/opt/genomics/IPHinvestigators/joyfu/dementia-epilepsy/data/modeling/rsID_shared.txt',\n",
    "                             delimiter='\\t')\n",
    "print(shared_feature.shape) # dim = (83,15)\n",
    "shared_feature.head()"
   ]
  },
  {
   "cell_type": "code",
   "execution_count": 20,
   "metadata": {},
   "outputs": [],
   "source": [
    "filtered_df = shared_feature[shared_feature['signs'] == 'Same']\n",
    "# Select the \"SNP\" column as a NumPy array\n",
    "snp_array = filtered_df['SNP'].to_numpy()"
   ]
  },
  {
   "cell_type": "markdown",
   "metadata": {},
   "source": [
    "## Retrain model with shared SNPs"
   ]
  },
  {
   "cell_type": "code",
   "execution_count": 21,
   "metadata": {},
   "outputs": [],
   "source": [
    "# Load in cleaned data\n",
    "df = pd.read_csv('/opt/genomics/IPHinvestigators/joyfu/dementia-epilepsy/data/modeling/sample_data_full.csv')\n",
    "# Create a new column 'AD_LOE' based on the conditions\n",
    "df['AD_LOE'] = ((df['AD'] == 1) | (df['LOE'] == 1)).astype(int)\n",
    "# Separate features (SNPs) and target outcomes\n",
    "X = df.drop(columns = ['AD', 'LOE', 'AD_LOE'])\n",
    "y = df[['AD_LOE']]"
   ]
  },
  {
   "cell_type": "code",
   "execution_count": 22,
   "metadata": {},
   "outputs": [
    {
     "data": {
      "text/plain": [
       "0    1609\n",
       "1     570\n",
       "Name: AD_LOE, dtype: int64"
      ]
     },
     "execution_count": 22,
     "metadata": {},
     "output_type": "execute_result"
    }
   ],
   "source": [
    "df['AD_LOE'].value_counts()"
   ]
  },
  {
   "cell_type": "code",
   "execution_count": 23,
   "metadata": {},
   "outputs": [
    {
     "data": {
      "text/plain": [
       "27"
      ]
     },
     "execution_count": 23,
     "metadata": {},
     "output_type": "execute_result"
    }
   ],
   "source": [
    "# Placeholder for demographics and SNP columns\n",
    "demographics = ['age_last_visit', 'female', 'PC1', 'PC2', 'PC3', 'PC4', 'PC5', 'PC6', 'PC7', 'PC8', 'PC9', 'PC10']\n",
    "SNP_columns = snp_array\n",
    "len(SNP_columns)"
   ]
  },
  {
   "cell_type": "code",
   "execution_count": 24,
   "metadata": {},
   "outputs": [],
   "source": [
    "seed = 701\n",
    "# Create a composite stratification key\n",
    "y_stratify = y.apply(lambda row: '_'.join(row.values.astype(str)), axis = 1)\n",
    "X_train, X_test, y_train, y_test = train_test_split(X, y, test_size = 0.2, stratify = y_stratify, random_state = seed)"
   ]
  },
  {
   "cell_type": "code",
   "execution_count": 26,
   "metadata": {},
   "outputs": [],
   "source": [
    "# Standardize demographic features\n",
    "scaler = StandardScaler()\n",
    "X_train_scaled = scaler.fit_transform(X_train[demographics])\n",
    "X_test_scaled = scaler.transform(X_test[demographics])\n",
    "# Regress out demographics from AD and LOE using logistic regression\n",
    "log_reg_ad_loe = LogisticRegression()\n",
    "log_reg_ad_loe.fit(X_train_scaled, y_train['AD_LOE'])\n",
    "y_train_pred_ad_loe = log_reg_ad_loe.predict_proba(X_train_scaled)[:, 1]\n",
    "y_train_resid_ad_loe = y_train['AD_LOE'] - y_train_pred_ad_loe\n",
    "\n",
    "# Store residuals\n",
    "y_train_resid = pd.DataFrame({\n",
    "    'residual': y_train_resid_ad_loe\n",
    "})"
   ]
  },
  {
   "cell_type": "code",
   "execution_count": 27,
   "metadata": {},
   "outputs": [],
   "source": [
    "# LASSO model (with all features fixed in the model)\n",
    "# Isolate SNP data\n",
    "X_train_SNPs = X_train[SNP_columns]\n",
    "X_test_SNPs = X_test[SNP_columns]"
   ]
  },
  {
   "cell_type": "code",
   "execution_count": 30,
   "metadata": {},
   "outputs": [
    {
     "name": "stderr",
     "output_type": "stream",
     "text": [
      "<ipython-input-30-47e9080bd5e8>:2: UserWarning: With alpha=0, this algorithm does not converge well. You are advised to use the LinearRegression estimator\n",
      "  lasso_ad_loe.fit(X_train_SNPs, y_train_resid['residual'])\n",
      "/home2/mingzhoufu/.conda/envs/jf/lib/python3.8/site-packages/sklearn/linear_model/_coordinate_descent.py:529: UserWarning: Coordinate descent with no regularization may lead to unexpected results and is discouraged.\n",
      "  model = cd_fast.enet_coordinate_descent(\n",
      "/home2/mingzhoufu/.conda/envs/jf/lib/python3.8/site-packages/sklearn/linear_model/_coordinate_descent.py:529: ConvergenceWarning: Objective did not converge. You might want to increase the number of iterations. Duality gap: 151.30934337014676, tolerance: 0.03153826100259746\n",
      "  model = cd_fast.enet_coordinate_descent(\n"
     ]
    }
   ],
   "source": [
    "lasso_ad_loe = Lasso(alpha = 0) \n",
    "lasso_ad_loe.fit(X_train_SNPs, y_train_resid['residual'])\n",
    "\n",
    "y_pred_ad_loe_resid = lasso_ad_loe.predict(X_test_SNPs)"
   ]
  },
  {
   "cell_type": "code",
   "execution_count": 31,
   "metadata": {},
   "outputs": [
    {
     "name": "stdout",
     "output_type": "stream",
     "text": [
      "Lasso AUC: 0.6560422796120737, AUPRC: 0.4292944496445104, MSE: 0.2507434060489487\n"
     ]
    }
   ],
   "source": [
    "auc_lasso = roc_auc_score(y_test['AD_LOE'], y_pred_ad_loe_resid)\n",
    "auprc_lasso = average_precision_score(y_test['AD_LOE'], y_pred_ad_loe_resid)\n",
    "mse_lasso = mean_squared_error(y_test['AD_LOE'], y_pred_ad_loe_resid)\n",
    "\n",
    "print(f\"Lasso AUC: {auc_lasso}, AUPRC: {auprc_lasso}, MSE: {mse_lasso}\")"
   ]
  },
  {
   "cell_type": "code",
   "execution_count": 32,
   "metadata": {},
   "outputs": [
    {
     "data": {
      "text/plain": [
       "(27, 1)"
      ]
     },
     "execution_count": 32,
     "metadata": {},
     "output_type": "execute_result"
    }
   ],
   "source": [
    "coefficients = pd.DataFrame(lasso_ad_loe.coef_.T, index = SNP_columns, columns = ['AD_LOE_coef'])\n",
    "# Identify feature coefficients \n",
    "coef_features = coefficients[(coefficients['AD_LOE_coef'] != 0) ]\n",
    "coef_features.shape"
   ]
  },
  {
   "cell_type": "code",
   "execution_count": 34,
   "metadata": {
    "scrolled": true
   },
   "outputs": [],
   "source": [
    "coef_features.to_csv('/opt/genomics/IPHinvestigators/joyfu/dementia-epilepsy/output/coef_features_retrain.csv', index = True)"
   ]
  },
  {
   "cell_type": "code",
   "execution_count": null,
   "metadata": {},
   "outputs": [],
   "source": []
  }
 ],
 "metadata": {
  "kernelspec": {
   "display_name": "Python 3",
   "language": "python",
   "name": "python3"
  },
  "language_info": {
   "codemirror_mode": {
    "name": "ipython",
    "version": 3
   },
   "file_extension": ".py",
   "mimetype": "text/x-python",
   "name": "python",
   "nbconvert_exporter": "python",
   "pygments_lexer": "ipython3",
   "version": "3.8.3"
  }
 },
 "nbformat": 4,
 "nbformat_minor": 4
}
